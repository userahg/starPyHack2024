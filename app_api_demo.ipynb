{
 "cells": [
  {
   "cell_type": "code",
   "execution_count": 17,
   "id": "0a96c48c-eaae-46b5-8f81-6f8123b5c3f1",
   "metadata": {},
   "outputs": [
    {
     "name": "stdout",
     "output_type": "stream",
     "text": [
      "Starting Simcenter STAR-CCM+ in Design Manager mode\n",
      "Playing macro: E:\\OneDrive - Siemens AG\\mdx\\hackathon\\2024\\starPy\\eCubded\\ExportProjectToJSON.java\n",
      "Design Set \"All\" is exported to E:\\OneDrive - Siemens AG\\mdx\\hackathon\\2024\\starPy\\eCubded\\._ds_exp\\proj_taw2_Opt2_AllDesigns.csv\n",
      "\n",
      "\n"
     ]
    }
   ],
   "source": [
    "import common.star_api.design_manager as dm\n",
    "\n",
    "version = dm.STARCCMInstall(r\"E:\\Siemens\\STARCCM\\starpy\\STAR-CCM+19.04.007-2-ga404231\\star\\bin\\starccm+.bat\")\n",
    "path = r\"E:\\OneDrive - Siemens AG\\mdx\\hackathon\\2024\\starPy\\eCubded\\proj_taw2.dmprj\"\n",
    "port = 47827\n",
    "dmprj = dm.DesignManagerProject.get_live_proj(path, port, version)"
   ]
  },
  {
   "cell_type": "code",
   "execution_count": 18,
   "id": "a02d5b0e-6e5b-4f65-8107-d2b3505f9a5e",
   "metadata": {},
   "outputs": [
    {
     "name": "stdout",
     "output_type": "stream",
     "text": [
      "There are 12 angle parameters.\n",
      "There are 264 weight parameters.\n",
      "prof6angle: [-2.5, 2.5]\n",
      "prof7angle: [-2.5, 2.5]\n",
      "prof8angle: [-2.5, 2.5]\n",
      "prof9angle: [-2.5, 2.5]\n",
      "prof10angle: [-2.5, 2.5]\n",
      "tipangle: [-2.5, 2.5]\n",
      "prof1angle: [-2.5, 2.5]\n",
      "prof2angle: [-2.5, 2.5]\n",
      "prof3angle: [-2.5, 2.5]\n",
      "prof4angle: [-2.5, 2.5]\n",
      "prof5angle: [-2.5, 2.5]\n",
      "rootangle: [-2.5, 2.5]\n"
     ]
    }
   ],
   "source": [
    "study = dmprj.get_study(\"Opt2\")\n",
    "angle_params = [p for p in study.parameters if \"angle\" in p.name]\n",
    "weight_params = [p for p in study.parameters if \"P_W_\" in p.name]\n",
    "print(f\"There are {len(angle_params)} angle parameters.\")\n",
    "print(f\"There are {len(weight_params)} weight parameters.\")\n",
    "for p in angle_params:\n",
    "    print(f\"{p.name}: [{p.min}, {p.max}]\")"
   ]
  },
  {
   "cell_type": "code",
   "execution_count": 19,
   "id": "1a9b55f0-2e82-4223-be43-f54550f17268",
   "metadata": {},
   "outputs": [],
   "source": [
    "for p in weight_params:\n",
    "    p.set_ranges(u_bnd=20.0, l_bnd=-20.0, sig_fig=4)"
   ]
  },
  {
   "cell_type": "code",
   "execution_count": 20,
   "id": "6f931df7-041d-44ca-95ca-03faa59b1c8c",
   "metadata": {},
   "outputs": [],
   "source": [
    "for p in angle_params:\n",
    "    p.set_ranges(u_bnd=3.0, l_bnd=-3.0, mode=\"abs\")"
   ]
  },
  {
   "cell_type": "code",
   "execution_count": 21,
   "id": "14a4cc2d-e572-467c-ab6a-7d8586da3ec1",
   "metadata": {},
   "outputs": [
    {
     "name": "stdout",
     "output_type": "stream",
     "text": [
      "Starting Simcenter STAR-CCM+ in Design Manager mode\n",
      "Playing macro: E:\\OneDrive - Siemens AG\\mdx\\hackathon\\2024\\starPy\\eCubded\\RecordedActionsOnproj_taw2.java\n",
      "\n",
      "\n",
      "Starting Simcenter STAR-CCM+ in Design Manager mode\n",
      "Playing macro: E:\\OneDrive - Siemens AG\\mdx\\hackathon\\2024\\starPy\\eCubded\\ExportProjectToJSON.java\n",
      "Design Set \"All\" is exported to E:\\OneDrive - Siemens AG\\mdx\\hackathon\\2024\\starPy\\eCubded\\._ds_exp\\proj_taw2_Opt2_AllDesigns.csv\n",
      "\n",
      "\n"
     ]
    }
   ],
   "source": [
    "dmprj.sync(push_to_star=True)"
   ]
  },
  {
   "cell_type": "code",
   "execution_count": null,
   "id": "dc8caf8e-9780-4900-8d70-0c5d2c47958c",
   "metadata": {},
   "outputs": [],
   "source": []
  }
 ],
 "metadata": {
  "kernelspec": {
   "display_name": "Python 3 (ipykernel)",
   "language": "python",
   "name": "python3"
  },
  "language_info": {
   "codemirror_mode": {
    "name": "ipython",
    "version": 3
   },
   "file_extension": ".py",
   "mimetype": "text/x-python",
   "name": "python",
   "nbconvert_exporter": "python",
   "pygments_lexer": "ipython3",
   "version": "3.9.13"
  }
 },
 "nbformat": 4,
 "nbformat_minor": 5
}
