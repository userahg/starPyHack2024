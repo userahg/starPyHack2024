{
 "cells": [
  {
   "cell_type": "code",
   "execution_count": null,
   "id": "94fb6cbd-ea8f-45b6-897a-a7e9a88d9891",
   "metadata": {},
   "outputs": [],
   "source": [
    "import common.star_api.design_manager as dm\n",
    "\n",
    "version = dm.STARCCMInstall(r\"E:\\Siemens\\STARCCM\\starpy\\STAR-CCM+19.04.007-2-ga404231\\star\\bin\\starccm+.bat\")\n",
    "path = r\"E:\\OneDrive - Siemens AG\\mdx\\hackathon\\2024\\starPy\\eCubded\\proj_taw2.dmprj\"\n",
    "port = 47827\n",
    "dmprj = dm.DesignManagerProject.get_live_proj(path, port, version)"
   ]
  },
  {
   "cell_type": "code",
   "execution_count": null,
   "id": "a02d5b0e-6e5b-4f65-8107-d2b3505f9a5e",
   "metadata": {},
   "outputs": [],
   "source": [
    "study = dmprj.get_study(\"Opt2\")\n",
    "angle_params = [p for p in study.parameters if \"angle\" in p.name]\n",
    "weight_params = [p for p in study.parameters if \"P_W_\" in p.name]\n",
    "print(f\"There are {len(angle_params)} angle parameters.\")\n",
    "print(f\"There are {len(weight_params)} weight parameters.\")\n",
    "for p in angle_params:\n",
    "    print(f\"{p.name}: [{p.min}, {p.max}]\")"
   ]
  },
  {
   "cell_type": "code",
   "execution_count": null,
   "id": "1a9b55f0-2e82-4223-be43-f54550f17268",
   "metadata": {},
   "outputs": [],
   "source": [
    "for p in angle_params:\n",
    "    mode = \"abs\"\n",
    "    p.set_ranges(mode=mode, u_bnd=3.0, l_bnd=-3.0)\n",
    "\n",
    "for p in weight_params:\n",
    "    p.set_ranges(u_bnd=25.0, l_bnd=-25.0, sig_fig=4)"
   ]
  },
  {
   "cell_type": "code",
   "execution_count": null,
   "id": "14a4cc2d-e572-467c-ab6a-7d8586da3ec1",
   "metadata": {},
   "outputs": [],
   "source": [
    "dmprj.sync(push_to_star=True)"
   ]
  }
 ],
 "metadata": {
  "kernelspec": {
   "display_name": "Python 3 (ipykernel)",
   "language": "python",
   "name": "python3"
  },
  "language_info": {
   "codemirror_mode": {
    "name": "ipython",
    "version": 3
   },
   "file_extension": ".py",
   "mimetype": "text/x-python",
   "name": "python",
   "nbconvert_exporter": "python",
   "pygments_lexer": "ipython3",
   "version": "3.9.13"
  }
 },
 "nbformat": 4,
 "nbformat_minor": 5
}
