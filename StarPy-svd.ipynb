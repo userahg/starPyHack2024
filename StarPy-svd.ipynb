{
 "cells": [
  {
   "cell_type": "code",
   "execution_count": null,
   "id": "1d434d24-5826-445d-ad8e-812a82725ca1",
   "metadata": {},
   "outputs": [],
   "source": [
    "#SVD example"
   ]
  },
  {
   "cell_type": "code",
   "execution_count": null,
   "id": "038565d8-0eb8-4917-a817-e8ee03732e7f",
   "metadata": {},
   "outputs": [],
   "source": [
    "import common.star_api.design_manager as dm\n",
    "import common.visualization as viz\n",
    "import pandas as pd\n",
    "import numpy as np\n",
    "from matplotlib import pyplot as plt\n",
    "from pathlib import Path\n",
    "\n",
    "work_dir = Path(r\"/u/cd9zen/models/starPy/svd\")\n",
    "name = \"svd_proj\"\n",
    "version = \"19.02.009-R8\"\n",
    "distrib =r\"/install/STAR-CCMP/lin64-r8/19.02.009_01/STAR-CCM+19.02.009-R8/star/bin/starccm+\"\n",
    "\n",
    "\n",
    "def plot_best_design_histories(proj: dm.DesignManagerProject):\n",
    "    fig, ax = plt.subplots()\n",
    "    only_opt = [s for s in proj if \"Sherpa_\" in s.name]\n",
    "    for study in only_opt:\n",
    "        label = study.name.split(\"_\")[-1]\n",
    "        df = study.get_all_designs().data_frame()\n",
    "        ax = viz.plot_history(df=df, y_col=\"L_over_D\", best_design=False, scatter=False, ax=ax, label=label)\n",
    "    ax.legend(loc=\"best\")\n",
    "    plt.tight_layout()\n",
    "    fig.savefig(work_dir.joinpath(\"bestDesignHist.png\"), dpi=300)\n",
    "\n",
    "\n",
    "def plot_statistical_histories(proj: dm.DesignManagerProject):\n",
    "    only_opt = [s for s in proj if \"Sherpa_\" in s.name]\n",
    "    d = {\"Design#\": np.arange(1, 501)}\n",
    "    for study in only_opt:\n",
    "        data = study.get_design_set(\"All Best\").generate_history(col_name=\"L_over_D\", max_designs=500)\n",
    "        d[study.name] = data[:, 1]\n",
    "\n",
    "    data = pd.DataFrame(d)\n",
    "    data2 = data[data.columns[1:]]\n",
    "    data[\"Min\"] = data2.min(axis=1)\n",
    "    data[\"Average\"] = data2.mean(axis=1)\n",
    "    data[\"Median\"] = data2.median(axis=1)\n",
    "    data[\"Max\"] = data2.max(axis=1)\n",
    "    data[\"Q1\"] = data2.quantile(0.25, axis=1)\n",
    "    data[\"Q3\"] = data2.quantile(0.75, axis=1)\n",
    "    fig, ax = plt.subplots()\n",
    "    x = data[\"Design#\"].to_numpy()\n",
    "    med = data[\"Median\"].to_numpy()\n",
    "    q1 = data[\"Q1\"].to_numpy()\n",
    "    q3 = data[\"Q3\"].to_numpy()\n",
    "    ax.plot(x, med, color=\"k\", linestyle=\"-\", linewidth=2.0)\n",
    "    ax.fill_between(x, q1, q3, alpha=0.25, color=\"k\")\n",
    "    plt.tight_layout()\n",
    "    fig.savefig(work_dir.joinpath(\"statistical.png\"), dpi=300)\n",
    "\n",
    "\n",
    "if __name__ == \"__main__\":\n",
    "    dmprj = dm.DesignManagerProject.get_proj_distrib(work_dir=work_dir, dmprj=name, distrib=distrib)\n",
    "    plot_best_design_histories(dmprj)\n",
    "    plot_statistical_histories(dmprj)"
   ]
  },
  {
   "cell_type": "code",
   "execution_count": null,
   "id": "8fe03a1e-300f-4dca-9647-e6b027b71bda",
   "metadata": {},
   "outputs": [],
   "source": []
  }
 ],
 "metadata": {
  "kernelspec": {
   "display_name": "Python 3 (ipykernel)",
   "language": "python",
   "name": "python3"
  },
  "language_info": {
   "codemirror_mode": {
    "name": "ipython",
    "version": 3
   },
   "file_extension": ".py",
   "mimetype": "text/x-python",
   "name": "python",
   "nbconvert_exporter": "python",
   "pygments_lexer": "ipython3",
   "version": "3.11.7"
  }
 },
 "nbformat": 4,
 "nbformat_minor": 5
}
